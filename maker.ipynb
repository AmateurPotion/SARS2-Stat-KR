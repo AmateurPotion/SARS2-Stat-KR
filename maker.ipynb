{
 "cells": [
  {
   "cell_type": "code",
   "execution_count": 1,
   "metadata": {},
   "outputs": [],
   "source": [
    "from mk_table import Mk_table\n",
    "from region import *\n",
    "import time"
   ]
  },
  {
   "cell_type": "code",
   "execution_count": 2,
   "metadata": {},
   "outputs": [
    {
     "name": "stdout",
     "output_type": "stream",
     "text": [
      "pass :  서울\n",
      "pass :  대구\n",
      "pass :  부산\n",
      "pass :  대전\n",
      "pass :  광주\n",
      "pass :  경상북도\n",
      "pass :  경상남도\n",
      "pass :  경기도\n",
      "pass :  충청북도\n",
      "pass :  충청남도\n",
      "pass :  강원도\n",
      "pass :  전라북도\n",
      "pass :  전라남도\n"
     ]
    },
    {
     "data": {
      "text/markdown": [
       "\n",
       "\n",
       "        \n",
       "|  지역  | 확진자 |  격리자  |  사망자  |  의사환자  |  검사중  |  검사결과(음성)  |  자가격리자  |  감시중  |  감시해제  |  완치  |\n",
       "|:------:|:------:|:--------:|:--------:|:----------:|:--------:|:----------------:|:------------:|:--------:|:----------:|:--:|\n",
       "|서울|49|49|-|6,878|1,463|5,415|1,697|637|1,060|-|\n",
       "|대구|677|675|2|-|-|-|-|-|-|-|\n",
       "|부산|57|57|-|-|-|-|-|-|-|-|\n",
       "|대전|6|6|0|327|-|-|-|60|1165|-|\n",
       "|광주|9|7|-|-|-|-|-|-|-|2|\n",
       "|경상북도|283|275|8|-|273|306|-|2,654|22|-|\n",
       "|경상남도|38|38|-|-|395|1,885|645|-|-|-|\n",
       "|경기도|48|38|1|-|-|-|-|-|-|9|\n",
       "|충청북도|6|6|-|-|-|-|-|-|-|-|\n",
       "|충청남도|5|5|-|-|467|1,177|58|-|-|-|\n",
       "|강원도|6|6|-|1548|509|1039|-|-|-|-|\n",
       "|전라북도|4|3|-|-|-|-|82|-|11|1|\n",
       "|전라남도|1|0|-|-|0|381|-|-|1|1|\n",
       "|총합|1,189|1,165|11|8,753|3,107|10,203|2,482|3,351|2,259|13|\n",
       "        \n"
      ],
      "text/plain": [
       "<IPython.core.display.Markdown object>"
      ]
     },
     "metadata": {},
     "output_type": "display_data"
    }
   ],
   "source": [
    "from IPython.display import display, Markdown, Latex\n",
    "table = Mk_table()\n",
    "region_list = [seoul(), \n",
    "               daegu(),    \n",
    "               busan(),   \n",
    "               daejeon(),\n",
    "               gwangju(infected=9, quarantine=7, care=2),\n",
    "               gyeongbuk(),\n",
    "               gyeongnam(),\n",
    "               gyeonggi(), \n",
    "               chungbuk(infected=6),\n",
    "               chungnam(),\n",
    "               gangwon(infected=6, suspect=1548, testing=509, negetive=1039),\n",
    "               jeonbuk(infected=4, quarantine=3, self_quarantine=82, unmonitor=11, care=1),\n",
    "               jeonnam()\n",
    "        ]\n",
    "display(Markdown('''\n",
    "{}\n",
    "'''.format(table.generate(region_list))))"
   ]
  },
  {
   "cell_type": "code",
   "execution_count": 3,
   "metadata": {},
   "outputs": [],
   "source": [
    "readme = open('README.md', mode='wt', encoding='utf-8')\n",
    "readme.write('''\n",
    "## 대한민국 우한 코로나 바이러스 감염자 실시간 통계\n",
    "{0}\n",
    "\n",
    "각 시청, 도청 사이트에서 제공되는 정보를 수합하여 만든 통계이므로\n",
    "\n",
    "{1}\n",
    "'''.format(time.strftime(u'%Y.%m.%d %X KST', time.localtime(time.time())), table.table))\n",
    "readme.close()"
   ]
  },
  {
   "cell_type": "code",
   "execution_count": null,
   "metadata": {},
   "outputs": [],
   "source": []
  }
 ],
 "metadata": {
  "kernelspec": {
   "display_name": "Python 3",
   "language": "python",
   "name": "python3"
  },
  "language_info": {
   "codemirror_mode": {
    "name": "ipython",
    "version": 3
   },
   "file_extension": ".py",
   "mimetype": "text/x-python",
   "name": "python",
   "nbconvert_exporter": "python",
   "pygments_lexer": "ipython3",
   "version": "3.7.4"
  }
 },
 "nbformat": 4,
 "nbformat_minor": 2
}
