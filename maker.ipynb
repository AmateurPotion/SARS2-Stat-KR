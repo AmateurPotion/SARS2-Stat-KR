{
 "cells": [
  {
   "cell_type": "code",
   "execution_count": 1,
   "metadata": {},
   "outputs": [],
   "source": [
    "from util.mk_table import Mk_table\n",
    "from util.region import *\n",
    "from util.Daegu import Daegu\n",
    "from util.KST import kst_time"
   ]
  },
  {
   "cell_type": "code",
   "execution_count": 2,
   "metadata": {
    "scrolled": false
   },
   "outputs": [
    {
     "name": "stdout",
     "output_type": "stream",
     "text": [
      "pass :  서울\n",
      "pass :  대구\n",
      "pass :  부산\n",
      "pass :  대전\n",
      "pass :  광주\n",
      "pass :  울산\n",
      "pass :  인천\n",
      "pass :  세종\n",
      "pass :  경상북도\n",
      "pass :  경상남도\n",
      "pass :  경기도\n",
      "pass :  충청북도\n",
      "pass :  충청남도\n",
      "pass :  강원도\n",
      "pass :  전라북도\n",
      "pass :  전라남도\n",
      "pass :  제주도\n"
     ]
    },
    {
     "data": {
      "text/markdown": [
       "\n",
       "\n",
       "        \n",
       "|  지역  | 확진자 |  격리자  |  사망자  |  의사환자  |  검사중  |  결과음성  |  자가격리자  |  감시중  |  감시해제  |  완치  |\n",
       "|:------:|:------:|:--------:|:--------:|:----------:|:--------:|:----------------:|:------------:|:--------:|:----------:|:--:|\n",
       "|**총합**|**3,469**|**3,423**|**17**|**29,113**|**8,981**|**26,058**|**18,777**|**7,817**|**3,916**|**28**|\n",
       "|서울|86|75|-|13,194|3,932|9,262|3,143|1,691|1,452|11|\n",
       "|대구|2,553|2,543|8 |-|-|-|12,528|-|-|2 |\n",
       "|부산|76|76|-|-|-|-|-|-|-|-|\n",
       "|대전|13|13|0|166|-|-|-|470|2079|-|\n",
       "|광주|9|6|-|-|-|-|1|-|-|2|\n",
       "|울산|17|17|-|2,004|300|1,704|-|11|18|-|\n",
       "|인천|6|6|-|4,426|901|3,525|-|-|-|-|\n",
       "|세종|1|1|-|-|0|761|-|-|-|-|\n",
       "|경상북도|495|486|8|-|1,519|452|-|4,396|225|1|\n",
       "|경상남도|59|58|-|4,176|527|3,649|1,320|-|-|1|\n",
       "|경기도|89|79|1|-|-|-|-|-|-|9|\n",
       "|충청북도|11|11|-|3,052|228|2,824|1,383|1,249|134|-|\n",
       "|충청남도|36|36|-|-|1,061|1,536|166|-|-|-|\n",
       "|강원도|7|7|-|2095|367|1728|-|-|-|-|\n",
       "|전라북도|6|5|-|-|-|-|74|-|-|1|\n",
       "|전라남도|3|2|-|-|72|617|-|-|1|1|\n",
       "|제주도|2|2|0|-|74|-|162|-|7|-|\n",
       "|**총합**|**3,469**|**3,423**|**17**|**29,113**|**8,981**|**26,058**|**18,777**|**7,817**|**3,916**|**28**|\n",
       "\n",
       "        \n"
      ],
      "text/plain": [
       "<IPython.core.display.Markdown object>"
      ]
     },
     "metadata": {},
     "output_type": "display_data"
    }
   ],
   "source": [
    "from IPython.display import display, Markdown, Latex\n",
    "table = Mk_table()\n",
    "region_list = [seoul(), \n",
    "               Daegu().collect(),    \n",
    "               busan(),   \n",
    "               daejeon(),\n",
    "               gwangju(infected=9, quarantine=6, self_quarantine=1, care=2),\n",
    "               ulsan(),\n",
    "               incheon(),\n",
    "               sejong(),\n",
    "               gyeongbuk(),\n",
    "               gyeongnam(),\n",
    "               gyeonggi(), \n",
    "               chungbuk(),\n",
    "               chungnam(),\n",
    "               gangwon(infected=7, suspect=2095, testing=367, negative=1728),\n",
    "               jeonbuk(),\n",
    "               jeonnam(),\n",
    "               jeju(),\n",
    "        ]\n",
    "display(Markdown('''\n",
    "{}\n",
    "'''.format(table.generate(region_list))))"
   ]
  },
  {
   "cell_type": "code",
   "execution_count": 3,
   "metadata": {},
   "outputs": [],
   "source": [
    "readme = open('README.md', mode='wt', encoding='utf-8')\n",
    "readme.write('''\n",
    "## 대한민국 우한 코로나 바이러스 감염자 실시간 통계\n",
    "{0} KST\n",
    "\n",
    "** 빠른 시일 내에 서울특별시 구청별 통계 수합 코드를 작성하여 실시간 반영할 수 있도록 하겠습니다. **\n",
    "\n",
    "각 **시/도/구/군청** 사이트에 공개되어 있는 **공식 자료**를 수합하여 만든 통계입니다.\n",
    "질병관리본부에서 발표되는 공식 수치와는 다를 수 있습니다.\n",
    "\n",
    "**이 통계에 대해 가짜정보라고 기사를 작성한 기자와 언론사를 상대로 언론중재위원회에 손해배상청구를 진행할 예정입니다**\n",
    "\n",
    "{1}\n",
    "\n",
    "#1 확진자(중국인) 제외\n",
    "'''.format(kst_time(), table.table))\n",
    "readme.close()"
   ]
  },
  {
   "cell_type": "code",
   "execution_count": null,
   "metadata": {},
   "outputs": [],
   "source": []
  }
 ],
 "metadata": {
  "kernelspec": {
   "display_name": "Python 3",
   "language": "python",
   "name": "python3"
  },
  "language_info": {
   "codemirror_mode": {
    "name": "ipython",
    "version": 3
   },
   "file_extension": ".py",
   "mimetype": "text/x-python",
   "name": "python",
   "nbconvert_exporter": "python",
   "pygments_lexer": "ipython3",
   "version": "3.7.4"
  }
 },
 "nbformat": 4,
 "nbformat_minor": 2
}
