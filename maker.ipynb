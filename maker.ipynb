{
 "cells": [
  {
   "cell_type": "code",
   "execution_count": 1,
   "metadata": {},
   "outputs": [],
   "source": [
    "from util.mk_table import Mk_table\n",
    "from util.region import *\n",
    "from util.Daegu import Daegu\n",
    "from util.Gangwon import Gangwon\n",
    "from util.KST import kst_time"
   ]
  },
  {
   "cell_type": "code",
   "execution_count": 2,
   "metadata": {
    "scrolled": false
   },
   "outputs": [
    {
     "name": "stdout",
     "output_type": "stream",
     "text": [
      "pass :  서울\n",
      "pass :  대구\n",
      "pass :  부산\n",
      "pass :  대전\n",
      "pass :  광주\n",
      "pass :  울산\n",
      "pass :  인천\n",
      "pass :  세종\n",
      "pass :  경상북도\n",
      "pass :  경상남도\n",
      "pass :  경기도\n",
      "pass :  충청북도\n",
      "pass :  충청남도\n"
     ]
    },
    {
     "name": "stderr",
     "output_type": "stream",
     "text": [
      "C:\\Users\\LK-LAB\\Anaconda3\\lib\\site-packages\\urllib3\\connectionpool.py:847: InsecureRequestWarning: Unverified HTTPS request is being made. Adding certificate verification is strongly advised. See: https://urllib3.readthedocs.io/en/latest/advanced-usage.html#ssl-warnings\n",
      "  InsecureRequestWarning)\n"
     ]
    },
    {
     "name": "stdout",
     "output_type": "stream",
     "text": [
      "pass :  강원도\n",
      "pass :  전라북도\n",
      "pass :  전라남도\n",
      "pass :  제주도\n"
     ]
    },
    {
     "data": {
      "text/markdown": [
       "\n",
       "\n",
       "        \n",
       "|  지역  | 확진자 |  격리자  |  사망자  |  의사환자  |  검사중  |  결과음성  |  자가격리자  |  감시중  |  감시해제  |  완치  |\n",
       "|:------:|:------:|:--------:|:--------:|:----------:|:--------:|:----------------:|:------------:|:--------:|:----------:|:--:|\n",
       "|**총합**|**4,216**|**4,157**|**25**|**33,779**|**10,283**|**31,158**|**20,568**|**8,562**|**4,799**|**33**|\n",
       "|서울|92|81|-|14,189|4,104|10,085|3,278|1,663|1,615|11|\n",
       "|대구|3,133|3,110|16 |-|-|-|13,491|-|-|7 |\n",
       "|부산|79|79|-|-|-|-|-|-|-|-|\n",
       "|대전|14|14|0|250|-|-|-|350|2737|-|\n",
       "|광주|9|6|-|-|-|-|1|-|-|2|\n",
       "|울산|20|20|-|2,860|478|2,382|-|18|8|-|\n",
       "|인천|7|7|-|5,598|1,318|4,280|-|-|-|-|\n",
       "|세종|1|1|-|-|0|815|-|-|-|-|\n",
       "|경상북도|586|577|8|-|1,555|418|-|5,284|254|1|\n",
       "|경상남도|61|60|-|4,681|507|4,174|1,462|-|-|1|\n",
       "|경기도|93|83|1|-|-|-|-|-|-|9|\n",
       "|충청북도|11|11|-|3,537|217|3,320|1,395|1,247|148|-|\n",
       "|충청남도|77|77|-|-|1,431|2,810|581|-|-|-|\n",
       "|강원도|19|19|0|2664|623|2041|176|-|-|-|\n",
       "|전라북도|7|6|-|-|-|-|50|-|-|1|\n",
       "|전라남도|4|3|-|-|0|833|-|-|1|1|\n",
       "|제주도|3|3|0|-|50|-|134|-|36|-|\n",
       "|**총합**|**4,216**|**4,157**|**25**|**33,779**|**10,283**|**31,158**|**20,568**|**8,562**|**4,799**|**33**|\n",
       "\n",
       "        \n"
      ],
      "text/plain": [
       "<IPython.core.display.Markdown object>"
      ]
     },
     "metadata": {},
     "output_type": "display_data"
    }
   ],
   "source": [
    "from IPython.display import display, Markdown, Latex\n",
    "table = Mk_table()\n",
    "region_list = [seoul(), \n",
    "               Daegu().collect(),    \n",
    "               busan(),   \n",
    "               daejeon(),\n",
    "               gwangju(infected=9, quarantine=6, self_quarantine=1, care=2),\n",
    "               ulsan(),\n",
    "               incheon(),\n",
    "               sejong(),\n",
    "               gyeongbuk(),\n",
    "               gyeongnam(),\n",
    "               gyeonggi(), \n",
    "               chungbuk(),\n",
    "               chungnam(),\n",
    "               Gangwon().collect(suspect=2664, testing=623, negative=2041),\n",
    "               jeonbuk(),\n",
    "               jeonnam(),\n",
    "               jeju(),\n",
    "        ]\n",
    "display(Markdown('''\n",
    "{}\n",
    "'''.format(table.generate(region_list))))"
   ]
  },
  {
   "cell_type": "code",
   "execution_count": 4,
   "metadata": {},
   "outputs": [],
   "source": [
    "readme = open('README.md', mode='wt', encoding='utf-8')\n",
    "readme.write('''\n",
    "## 대한민국 우한 코로나 바이러스 감염자 실시간 통계\n",
    "{0} KST\n",
    "\n",
    "** 부산, 경상북도 홈페이지에 표시된 수치가 질병관리본부 발표보다 적습니다. **\n",
    "\n",
    "각 **시/도/구/군청** 사이트에 공개되어 있는 **공식 자료**를 수합하여 만든 통계입니다.\n",
    "질병관리본부에서 발표되는 공식 수치와는 다를 수 있습니다.\n",
    "\n",
    "**이 통계에 대해 가짜정보라고 기사를 작성한 기자와 언론사를 상대로 언론중재위원회에 손해배상청구를 진행할 예정입니다**\n",
    "\n",
    "{1}\n",
    "\n",
    "#1 확진자(중국인) 제외\n",
    "'''.format(kst_time(), table.table))\n",
    "readme.close()"
   ]
  },
  {
   "cell_type": "code",
   "execution_count": null,
   "metadata": {},
   "outputs": [],
   "source": []
  }
 ],
 "metadata": {
  "kernelspec": {
   "display_name": "Python 3",
   "language": "python",
   "name": "python3"
  },
  "language_info": {
   "codemirror_mode": {
    "name": "ipython",
    "version": 3
   },
   "file_extension": ".py",
   "mimetype": "text/x-python",
   "name": "python",
   "nbconvert_exporter": "python",
   "pygments_lexer": "ipython3",
   "version": "3.7.4"
  }
 },
 "nbformat": 4,
 "nbformat_minor": 2
}
