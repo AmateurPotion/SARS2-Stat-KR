{
 "cells": [
  {
   "cell_type": "code",
   "execution_count": 9,
   "metadata": {},
   "outputs": [],
   "source": [
    "from mk_table import Mk_table\n",
    "from region import *\n",
    "from Daegu import Daegu\n",
    "from KST import kst_time"
   ]
  },
  {
   "cell_type": "code",
   "execution_count": 10,
   "metadata": {
    "scrolled": false
   },
   "outputs": [
    {
     "name": "stdout",
     "output_type": "stream",
     "text": [
      "pass :  서울\n",
      "pass :  대구\n",
      "pass :  부산\n",
      "pass :  대전\n",
      "pass :  광주\n",
      "pass :  울산\n",
      "pass :  인천\n",
      "pass :  세종\n",
      "pass :  경상북도\n",
      "pass :  경상남도\n",
      "pass :  경기도\n",
      "pass :  충청북도\n",
      "pass :  충청남도\n",
      "pass :  강원도\n",
      "pass :  전라북도\n",
      "pass :  전라남도\n",
      "pass :  제주도\n"
     ]
    },
    {
     "data": {
      "text/markdown": [
       "\n",
       "\n",
       "        \n",
       "|  지역  | 확진자 |  격리자  |  사망자  |  의사환자  |  검사중  |  결과음성  |  자가격리자  |  감시중  |  감시해제  |  완치  |\n",
       "|:------:|:------:|:--------:|:--------:|:----------:|:--------:|:----------------:|:------------:|:--------:|:----------:|:--:|\n",
       "|**총합**|**3,182**|**3,139**|**16**|**26,224**|**7,856**|**23,356**|**17,427**|**7,090**|**3,356**|**26**|\n",
       "|서울|77|68|-|12,265|3,672|8,593|2,790|1,460|1,330|9|\n",
       "|대구|2,350|2,341|7 |-|-|-|11,778|-|-|2 |\n",
       "|부산|71|71|-|-|-|-|-|-|-|-|\n",
       "|대전|13|13|0|142|-|-|-|353|1703|-|\n",
       "|광주|9|6|-|-|-|-|1|-|-|2|\n",
       "|울산|17|17|-|2,004|300|1,704|-|11|18|-|\n",
       "|인천|6|6|-|3,533|581|2,952|-|-|-|-|\n",
       "|세종|1|1|-|-|75|605|-|-|-|-|\n",
       "|경상북도|439|430|8|-|812|293|-|4,106|178|1|\n",
       "|경상남도|57|56|-|3,695|421|3,274|1,177|-|-|1|\n",
       "|경기도|79|69|1|-|-|-|-|-|-|9|\n",
       "|충청북도|10|10|-|2,704|307|2,397|1,279|1,160|119|-|\n",
       "|충청남도|36|36|-|-|1,061|1,536|166|-|-|-|\n",
       "|강원도|7|7|-|1881|384|1497|-|-|-|-|\n",
       "|전라북도|5|4|-|-|-|-|74|-|-|1|\n",
       "|전라남도|3|2|-|-|72|505|-|-|1|1|\n",
       "|제주도|2|2|0|-|171|-|162|-|7|-|\n",
       "|**총합**|**3,182**|**3,139**|**16**|**26,224**|**7,856**|**23,356**|**17,427**|**7,090**|**3,356**|**26**|\n",
       "\n",
       "        \n"
      ],
      "text/plain": [
       "<IPython.core.display.Markdown object>"
      ]
     },
     "metadata": {},
     "output_type": "display_data"
    }
   ],
   "source": [
    "from IPython.display import display, Markdown, Latex\n",
    "table = Mk_table()\n",
    "region_list = [seoul(), \n",
    "               Daegu().collect(),    \n",
    "               busan(),   \n",
    "               daejeon(),\n",
    "               gwangju(infected=9, quarantine=6, self_quarantine=1, care=2),\n",
    "               ulsan(),\n",
    "               incheon(),\n",
    "               sejong(),\n",
    "               gyeongbuk(),\n",
    "               gyeongnam(),\n",
    "               gyeonggi(), \n",
    "               chungbuk(),\n",
    "               chungnam(),\n",
    "               gangwon(infected=7, suspect=1881, testing=384, negative=1497),\n",
    "               jeonbuk(),\n",
    "               jeonnam(),\n",
    "               jeju(),\n",
    "        ]\n",
    "display(Markdown('''\n",
    "{}\n",
    "'''.format(table.generate(region_list))))"
   ]
  },
  {
   "cell_type": "code",
   "execution_count": 11,
   "metadata": {},
   "outputs": [],
   "source": [
    "readme = open('README.md', mode='wt', encoding='utf-8')\n",
    "readme.write('''\n",
    "## 대한민국 우한 코로나 바이러스 감염자 실시간 통계\n",
    "{0}\n",
    "\n",
    "** 빠른 시일 내에 서울특별시 구청별 통계 수합 코드를 작성하여 실시간 반영할 수 있도록 하겠습니다. **\n",
    "\n",
    "각 시/도/구/군청 사이트에서 제공되는 정보를 수합하여 만든 통계입니다.\n",
    "질병관리본부에서 발표되는 공식 수치와는 다를 수 있습니다.\n",
    "\n",
    "{1}\n",
    "\n",
    "#1 확진자(중국인) 제외\n",
    "'''.format(kst_time(), table.table))\n",
    "readme.close()"
   ]
  },
  {
   "cell_type": "code",
   "execution_count": null,
   "metadata": {},
   "outputs": [],
   "source": []
  }
 ],
 "metadata": {
  "kernelspec": {
   "display_name": "Python 3",
   "language": "python",
   "name": "python3"
  },
  "language_info": {
   "codemirror_mode": {
    "name": "ipython",
    "version": 3
   },
   "file_extension": ".py",
   "mimetype": "text/x-python",
   "name": "python",
   "nbconvert_exporter": "python",
   "pygments_lexer": "ipython3",
   "version": "3.7.4"
  }
 },
 "nbformat": 4,
 "nbformat_minor": 2
}
