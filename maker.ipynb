{
 "cells": [
  {
   "cell_type": "code",
   "execution_count": 1,
   "metadata": {},
   "outputs": [],
   "source": [
    "from mk_table import Mk_table\n",
    "from region import *\n",
    "import time\n",
    "from Daegu import Daegu"
   ]
  },
  {
   "cell_type": "code",
   "execution_count": 2,
   "metadata": {},
   "outputs": [
    {
     "name": "stdout",
     "output_type": "stream",
     "text": [
      "pass :  서울\n",
      "pass :  대구\n",
      "pass :  부산\n",
      "pass :  대전\n",
      "pass :  광주\n",
      "pass :  울산\n",
      "pass :  경상북도\n",
      "pass :  경상남도\n",
      "pass :  경기도\n",
      "pass :  충청북도\n",
      "pass :  충청남도\n",
      "pass :  강원도\n",
      "pass :  전라북도\n",
      "pass :  전라남도\n"
     ]
    },
    {
     "data": {
      "text/markdown": [
       "\n",
       "\n",
       "        \n",
       "|  지역  | 확진자 |  격리자  |  사망자  |  의사환자  |  검사중  |  검사결과(음성)  |  자가격리자  |  감시중  |  감시해제  |  완치  |\n",
       "|:------:|:------:|:--------:|:--------:|:----------:|:--------:|:----------------:|:------------:|:--------:|:----------:|:--:|\n",
       "|**총합**|**2,043**|**2,016**|**12**|**10,102**|**4,939**|**12,737**|**13,240**|**4,312**|**2,569**|**15**|\n",
       "|서울|59|59|-|8,238|2,279|5,959|1,994|874|1,120|-|\n",
       "|대구|1,389|1,385|3|-|-|-|10,155|-|-|1|\n",
       "|부산|60|60|-|-|-|-|-|-|-|-|\n",
       "|대전|10|10|0|119|-|-|-|303|1426|-|\n",
       "|광주|9|7|-|-|-|-|-|-|-|2|\n",
       "|울산|11|11|-|-|309|973|-|-|-|-|\n",
       "|경상북도|369|360|8|-|879|142|-|3,135|22|1|\n",
       "|경상남도|48|48|-|-|323|2,558|916|-|-|-|\n",
       "|경기도|61|51|1|-|-|-|-|-|-|9|\n",
       "|충청북도|6|6|-|-|-|-|-|-|-|-|\n",
       "|충청남도|9|9|-|-|732|1,362|97|-|-|-|\n",
       "|강원도|6|6|-|1745|409|1336|-|-|-|-|\n",
       "|전라북도|5|4|-|-|-|-|78|-|-|1|\n",
       "|전라남도|1|0|-|-|8|407|-|-|1|1|\n",
       "|**총합**|**2,043**|**2,016**|**12**|**10,102**|**4,939**|**12,737**|**13,240**|**4,312**|**2,569**|**15**|\n",
       "\n",
       "        \n"
      ],
      "text/plain": [
       "<IPython.core.display.Markdown object>"
      ]
     },
     "metadata": {},
     "output_type": "display_data"
    }
   ],
   "source": [
    "from IPython.display import display, Markdown, Latex\n",
    "table = Mk_table()\n",
    "region_list = [seoul(), \n",
    "               Daegu().collect(),    \n",
    "               busan(),   \n",
    "               daejeon(),\n",
    "               gwangju(infected=9, quarantine=7, care=2),\n",
    "               ulsan(infected=11, quarantine=11, testing=309, negative=973),\n",
    "               gyeongbuk(),\n",
    "               gyeongnam(),\n",
    "               gyeonggi(), \n",
    "               chungbuk(infected=6),\n",
    "               chungnam(),\n",
    "               gangwon(infected=6, suspect=1745, testing=409, negative=1336),\n",
    "               jeonbuk(infected=5, quarantine=4, self_quarantine=78, care=1),\n",
    "               jeonnam()\n",
    "        ]\n",
    "display(Markdown('''\n",
    "{}\n",
    "'''.format(table.generate(region_list))))"
   ]
  },
  {
   "cell_type": "code",
   "execution_count": 3,
   "metadata": {},
   "outputs": [],
   "source": [
    "readme = open('README.md', mode='wt', encoding='utf-8')\n",
    "readme.write('''\n",
    "## 대한민국 우한 코로나 바이러스 감염자 실시간 통계\n",
    "{0}\n",
    "\n",
    "각 시청, 도청 사이트에서 제공되는 정보를 수합하여 만든 통계입니다.\n",
    "질병관리본부에서 발표되는 공식 수치와는 다를 수 있습니다.\n",
    "\n",
    "{1}\n",
    "'''.format(time.strftime(u'%Y.%m.%d %X KST', time.localtime(time.time())), table.table))\n",
    "readme.close()"
   ]
  },
  {
   "cell_type": "code",
   "execution_count": null,
   "metadata": {},
   "outputs": [],
   "source": []
  }
 ],
 "metadata": {
  "kernelspec": {
   "display_name": "Python 3",
   "language": "python",
   "name": "python3"
  },
  "language_info": {
   "codemirror_mode": {
    "name": "ipython",
    "version": 3
   },
   "file_extension": ".py",
   "mimetype": "text/x-python",
   "name": "python",
   "nbconvert_exporter": "python",
   "pygments_lexer": "ipython3",
   "version": "3.7.4"
  }
 },
 "nbformat": 4,
 "nbformat_minor": 2
}
