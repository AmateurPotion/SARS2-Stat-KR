{
 "cells": [
  {
   "cell_type": "code",
   "execution_count": 1,
   "metadata": {},
   "outputs": [],
   "source": [
    "from mk_table import Mk_table\n",
    "from region import *\n",
    "import time\n",
    "from Daegu import Daegu"
   ]
  },
  {
   "cell_type": "code",
   "execution_count": 4,
   "metadata": {},
   "outputs": [
    {
     "name": "stdout",
     "output_type": "stream",
     "text": [
      "pass :  서울\n",
      "pass :  대구\n",
      "pass :  부산\n",
      "pass :  대전\n",
      "pass :  광주\n",
      "pass :  울산\n",
      "pass :  경상북도\n",
      "pass :  경상남도\n",
      "pass :  경기도\n",
      "pass :  충청북도\n",
      "pass :  충청남도\n",
      "pass :  강원도\n",
      "pass :  전라북도\n",
      "pass :  전라남도\n"
     ]
    },
    {
     "data": {
      "text/markdown": [
       "\n",
       "\n",
       "        \n",
       "|  지역  | 확진자 |  격리자  |  사망자  |  의사환자  |  검사중  |  검사결과(음성)  |  자가격리자  |  감시중  |  감시해제  |  완치  |\n",
       "|:------:|:------:|:--------:|:--------:|:----------:|:--------:|:----------------:|:------------:|:--------:|:----------:|:--:|\n",
       "|**총합**|**1,911**|**1,885**|**12**|**10,043**|**4,954**|**12,501**|**12,496**|**4,336**|**2,308**|**14**|\n",
       "|서울|59|59|-|8,238|2,279|5,959|1,994|874|1,120|-|\n",
       "|대구|1,284|1,280|3|-|-|-|9,462|-|-|1|\n",
       "|부산|60|60|-|-|-|-|-|-|-|-|\n",
       "|대전|9|9|0|60|-|-|-|327|1165|-|\n",
       "|광주|9|7|-|-|-|-|-|-|-|2|\n",
       "|울산|7|7|-|-|309|973|-|-|-|-|\n",
       "|경상북도|349|341|8|-|879|142|-|3,135|22|-|\n",
       "|경상남도|46|46|-|-|338|2,322|865|-|-|-|\n",
       "|경기도|61|51|1|-|-|-|-|-|-|9|\n",
       "|충청북도|6|6|-|-|-|-|-|-|-|-|\n",
       "|충청남도|9|9|-|-|732|1,362|97|-|-|-|\n",
       "|강원도|6|6|-|1745|409|1336|-|-|-|-|\n",
       "|전라북도|5|4|-|-|-|-|78|-|-|1|\n",
       "|전라남도|1|0|-|-|8|407|-|-|1|1|\n",
       "|**총합**|**1,911**|**1,885**|**12**|**10,043**|**4,954**|**12,501**|**12,496**|**4,336**|**2,308**|**14**|\n",
       "\n",
       "        \n"
      ],
      "text/plain": [
       "<IPython.core.display.Markdown object>"
      ]
     },
     "metadata": {},
     "output_type": "display_data"
    }
   ],
   "source": [
    "from IPython.display import display, Markdown, Latex\n",
    "table = Mk_table()\n",
    "region_list = [seoul(), \n",
    "               Daegu().collect(),    \n",
    "               busan(),   \n",
    "               daejeon(),\n",
    "               gwangju(infected=9, quarantine=7, care=2),\n",
    "               ulsan(infected=7, quarantine=7, testing=309, negative=973),\n",
    "               gyeongbuk(),\n",
    "               gyeongnam(),\n",
    "               gyeonggi(), \n",
    "               chungbuk(infected=6),\n",
    "               chungnam(),\n",
    "               gangwon(infected=6, suspect=1745, testing=409, negative=1336),\n",
    "               jeonbuk(infected=5, quarantine=4, self_quarantine=78, care=1),\n",
    "               jeonnam()\n",
    "        ]\n",
    "display(Markdown('''\n",
    "{}\n",
    "'''.format(table.generate(region_list))))"
   ]
  },
  {
   "cell_type": "code",
   "execution_count": 5,
   "metadata": {},
   "outputs": [],
   "source": [
    "readme = open('README.md', mode='wt', encoding='utf-8')\n",
    "readme.write('''\n",
    "## 대한민국 우한 코로나 바이러스 감염자 실시간 통계\n",
    "{0}\n",
    "\n",
    "각 시청, 도청 사이트에서 제공되는 정보를 수합하여 만든 통계입니다.\n",
    "질병관리본부에서 발표되는 공식 수치와는 다를 수 있습니다.\n",
    "\n",
    "{1}\n",
    "'''.format(time.strftime(u'%Y.%m.%d %X KST', time.localtime(time.time())), table.table))\n",
    "readme.close()"
   ]
  },
  {
   "cell_type": "code",
   "execution_count": null,
   "metadata": {},
   "outputs": [],
   "source": []
  }
 ],
 "metadata": {
  "kernelspec": {
   "display_name": "Python 3",
   "language": "python",
   "name": "python3"
  }
 },
 "nbformat": 4,
 "nbformat_minor": 2
}
