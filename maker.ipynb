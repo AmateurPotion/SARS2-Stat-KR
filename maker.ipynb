{
 "cells": [
  {
   "cell_type": "code",
   "execution_count": 1,
   "metadata": {},
   "outputs": [],
   "source": [
    "from mk_table import Mk_table\n",
    "from region import *\n",
    "import time"
   ]
  },
  {
   "cell_type": "code",
   "execution_count": 2,
   "metadata": {},
   "outputs": [
    {
     "data": {
      "text/markdown": [
       "\n",
       "\n",
       "        \n",
       "|  지역  | 확진자 |  격리자  |  사망자  |  의사환자  |  검사중  |  검사결과(음성)  |  자가격리자  |  감시중  |  감시해제  |  완치  |\n",
       "|:------:|:------:|:--------:|:--------:|:----------:|:--------:|:----------------:|:------------:|:--------:|:----------:|:--:|\n",
       "|서울|44|-|-|6,878|1,463|5,415|1,697|637|1,060|\n",
       "|대구|677|675|2|-|-|-|-|-|-|\n",
       "|부산|55|55|-|-|-|-|-|-|-|-|\n",
       "|대전|6|6|0|302|-|-|-|49|893|-|\n",
       "|경상북도|283|275|8|-|273|306|-|2,654|22|-|\n",
       "|경상남도|38|38|-|-|395|1,885|645|-|-|-|\n",
       "|경기도|48|38|1|-|-|-|-|-|-|9|\n",
       "|충청북도|6|6|-|-|-|-|-|-|-|-|\n",
       "|충청남도|5|5|-|-|467|1,177|58|-|-|-|\n",
       "|강원도|6|6|-|1548|509|1039|-|-|-|-|\n",
       "|총합|1,168|1,104|11|8,728|3,107|9,822|2,400|3,340|1,975|9|\n",
       "        \n"
      ],
      "text/plain": [
       "<IPython.core.display.Markdown object>"
      ]
     },
     "metadata": {},
     "output_type": "display_data"
    }
   ],
   "source": [
    "from IPython.display import display, Markdown, Latex\n",
    "table = Mk_table()\n",
    "display(Markdown('''\n",
    "{}\n",
    "'''.format(table.generate([seoul(), \n",
    "                           daegu(),\n",
    "                           busan(),\n",
    "                           daejeon(),\n",
    "                           gyeongbuk(),\n",
    "                           gyeongnam(),\n",
    "                           gyeonggi(),\n",
    "                           chungbuk(6),\n",
    "                           chungnam(),\n",
    "                           gangwon(6, 1548, 509, 1039)\n",
    "                           ]))))"
   ]
  },
  {
   "cell_type": "code",
   "execution_count": 3,
   "metadata": {},
   "outputs": [],
   "source": [
    "readme = open('README.md', mode='wt', encoding='utf-8')\n",
    "readme.write('''\n",
    "## 대한민국 우한 코로나 바이러스 감염자 실시간 통계\n",
    "{0}\n",
    "\n",
    "{1}\n",
    "'''.format(time.strftime(u'%Y.%m.%d %X KST', time.localtime(time.time())), table.table))\n",
    "readme.close()"
   ]
  },
  {
   "cell_type": "code",
   "execution_count": null,
   "metadata": {},
   "outputs": [],
   "source": []
  }
 ],
 "metadata": {
  "kernelspec": {
   "display_name": "Python 3",
   "language": "python",
   "name": "python3"
  },
  "language_info": {
   "codemirror_mode": {
    "name": "ipython",
    "version": 3
   },
   "file_extension": ".py",
   "mimetype": "text/x-python",
   "name": "python",
   "nbconvert_exporter": "python",
   "pygments_lexer": "ipython3",
   "version": "3.7.4"
  }
 },
 "nbformat": 4,
 "nbformat_minor": 2
}
